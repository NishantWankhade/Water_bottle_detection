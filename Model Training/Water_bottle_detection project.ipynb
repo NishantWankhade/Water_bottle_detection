{
 "cells": [
  {
   "attachments": {},
   "cell_type": "markdown",
   "id": "2a899359",
   "metadata": {},
   "source": [
    "### Installing Requirements \n",
    "* Ultralytics model YOLO_v8"
   ]
  },
  {
   "cell_type": "code",
   "execution_count": null,
   "id": "dc185f6c",
   "metadata": {},
   "outputs": [],
   "source": [
    "#CLI command for installing the YOLO_v8\n",
    "!pip install ultralytics"
   ]
  },
  {
   "attachments": {},
   "cell_type": "markdown",
   "id": "b53dd21d",
   "metadata": {},
   "source": [
    "### Training the model for 100 epochs\n",
    "* Used Google Colab for the model training"
   ]
  },
  {
   "cell_type": "code",
   "execution_count": null,
   "id": "69a64165",
   "metadata": {},
   "outputs": [],
   "source": [
    "# !yolo detect train model=\"yolov8m.pt\" data=data.yaml epochs=100 batch=4\n",
    "\n",
    "# Training the model using colab\n",
    "from ultralytics import YOLO\n",
    "\n",
    "model = YOLO(\"yolov8m.pt\")\n",
    "\n",
    "model.train(data='data.yaml', epochs = 100, batch=4)"
   ]
  }
 ],
 "metadata": {
  "kernelspec": {
   "display_name": "Python 3 (ipykernel)",
   "language": "python",
   "name": "python3"
  },
  "language_info": {
   "codemirror_mode": {
    "name": "ipython",
    "version": 3
   },
   "file_extension": ".py",
   "mimetype": "text/x-python",
   "name": "python",
   "nbconvert_exporter": "python",
   "pygments_lexer": "ipython3",
   "version": "3.10.9"
  }
 },
 "nbformat": 4,
 "nbformat_minor": 5
}
